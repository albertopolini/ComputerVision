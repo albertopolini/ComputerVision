{
 "cells": [
  {
   "cell_type": "code",
   "execution_count": null,
   "id": "50be680d-bb70-4bef-9710-cd2d0cdad93d",
   "metadata": {},
   "outputs": [],
   "source": [
    "# !pip install torchinfo \n",
    "# !pip install torchmetrics"
   ]
  },
  {
   "cell_type": "code",
   "execution_count": 1,
   "id": "9fc63407-e041-47d0-8495-0c85e850cf12",
   "metadata": {},
   "outputs": [],
   "source": [
    "import numpy as np\n",
    "\n",
    "from tqdm.notebook import tqdm\n",
    "\n",
    "import torch\n",
    "from torchvision import datasets, transforms\n",
    "\n",
    "import torch.nn as nn # Defines a series of classes to implement neural nets\n",
    "import torch.nn.functional as F # Contains functions that are used in network layers\n",
    "\n",
    "from torch.utils.data import DataLoader\n",
    "\n",
    "\n",
    "import matplotlib.pyplot as plt\n",
    "import seaborn as sns\n",
    "sns.set_style('darkgrid')"
   ]
  },
  {
   "cell_type": "code",
   "execution_count": 2,
   "id": "e900484c-c369-447d-918e-8be335c56883",
   "metadata": {},
   "outputs": [],
   "source": [
    "# Define transformations\n",
    "train_transform = transforms.Compose([transforms.Resize((32,32)),\n",
    "                                transforms.ToTensor(),\n",
    "                                transforms.Normalize(mean = (0.1307,), std = (0.3081,))])\n",
    "\n",
    "test_transform = transforms.Compose([transforms.Resize((32,32)),\n",
    "                                transforms.ToTensor(),\n",
    "                                transforms.Normalize(mean = (0.1325,), std = (0.3105,))])\n",
    "\n",
    "\n",
    "\n",
    "# Load training and test datasets\n",
    "train_dataset = datasets.MNIST('../Data', train=True, download=True, transform=train_transform)\n",
    "test_dataset = datasets.MNIST('../Data', train=False, download=True, transform=test_transform)"
   ]
  },
  {
   "cell_type": "code",
   "execution_count": 3,
   "id": "4ea00506-8220-44aa-b244-8d59b8e63e4b",
   "metadata": {},
   "outputs": [
    {
     "name": "stdout",
     "output_type": "stream",
     "text": [
      "Train dataset:\n",
      "Dataset MNIST\n",
      "    Number of datapoints: 60000\n",
      "    Root location: ../Data\n",
      "    Split: Train\n",
      "    StandardTransform\n",
      "Transform: Compose(\n",
      "               Resize(size=(32, 32), interpolation=bilinear, max_size=None, antialias=warn)\n",
      "               ToTensor()\n",
      "               Normalize(mean=(0.1307,), std=(0.3081,))\n",
      "           )\n",
      "Test dataset:\n",
      "Dataset MNIST\n",
      "    Number of datapoints: 10000\n",
      "    Root location: ../Data\n",
      "    Split: Test\n",
      "    StandardTransform\n",
      "Transform: Compose(\n",
      "               Resize(size=(32, 32), interpolation=bilinear, max_size=None, antialias=warn)\n",
      "               ToTensor()\n",
      "               Normalize(mean=(0.1325,), std=(0.3105,))\n",
      "           )\n"
     ]
    }
   ],
   "source": [
    "print(f\"Train dataset:\\n{train_dataset}\")\n",
    "print(f\"Test dataset:\\n{test_dataset}\")"
   ]
  },
  {
   "cell_type": "code",
   "execution_count": 4,
   "id": "a33ae816-9798-4f5e-b941-d931508e85f0",
   "metadata": {},
   "outputs": [],
   "source": [
    "# train dataloader\n",
    "train_loader = DataLoader(dataset=train_dataset,\n",
    "                          batch_size=64,\n",
    "                          shuffle=True)\n",
    "\n",
    "# test dataloader\n",
    "test_loader = DataLoader(dataset=test_dataset,\n",
    "                         batch_size=64,\n",
    "                         shuffle=True)"
   ]
  },
  {
   "cell_type": "code",
   "execution_count": 5,
   "id": "7c1f2a79-d6b3-4260-b221-0385f2b0b370",
   "metadata": {},
   "outputs": [
    {
     "data": {
      "image/png": "[encoded data removed]",
      "text/plain": [
       "<Figure size 640x480 with 9 Axes>"
      ]
     },
     "metadata": {},
     "output_type": "display_data"
    }
   ],
   "source": [
    "def show_batch(data, idx=0):\n",
    "    \n",
    "    fig, ax = plt.subplots(nrows=3, ncols=3)\n",
    "    \n",
    "    batch = next(iter(data))\n",
    "    images, labels = batch[0], batch[1]\n",
    "\n",
    "    for row in range(3):\n",
    "        for column in range(3):\n",
    "            ax[row, column].imshow(images[3*row + column][0, :, :])\n",
    "            ax[row, column].axis('off')\n",
    "            ax[row, column].set_title(int(labels[3*row+column]))\n",
    "            \n",
    "    plt.suptitle(\"MNIST Dataset\")\n",
    "    plt.tight_layout()\n",
    "    plt.show()\n",
    "    \n",
    "show_batch(train_loader)"
   ]
  },
  {
   "cell_type": "markdown",
   "id": "59b97cba-a08d-4032-9178-69220b3f97f2",
   "metadata": {},
   "source": [
    "# LeNet5 Architecture"
   ]
  },
  {
   "cell_type": "code",
   "execution_count": 6,
   "id": "25683101-8358-4d0e-8189-438ab3a4146f",
   "metadata": {},
   "outputs": [],
   "source": [
    "class ConvBlock(nn.Module):\n",
    "    def __init__(self,\n",
    "                 in_channels: int,\n",
    "                 out_channels: int,\n",
    "                 kernel_size: int,\n",
    "                 stride: int,\n",
    "                 padding: int = 0,\n",
    "                 pool_kernel_size: int = 2,\n",
    "                 pool_stride: int = 2):\n",
    "        \n",
    "        super(ConvBlock, self).__init__()\n",
    "        \n",
    "        self.block = nn.Sequential(\n",
    "            nn.Conv2d(in_channels, out_channels, kernel_size, stride, padding=padding),\n",
    "            #nn.BatchNorm2d(out_channels),\n",
    "            nn.ReLU(),\n",
    "            nn.MaxPool2d(kernel_size=pool_kernel_size, stride=pool_stride)\n",
    "        )\n",
    "        \n",
    "    def forward(self, x):\n",
    "        return self.block(x)\n",
    "        "
   ]
  },
  {
   "cell_type": "code",
   "execution_count": 7,
   "id": "4afeacb1-30a1-4195-924b-5df3e7a18864",
   "metadata": {},
   "outputs": [],
   "source": [
    "class LeNet5(nn.Module):\n",
    "    def __init__(self, num_classes):\n",
    "        super(LeNet5, self).__init__()\n",
    "        \n",
    "        self.num_classes = num_classes\n",
    "        \n",
    "        self.block1 = ConvBlock(in_channels=1,\n",
    "                                out_channels=6,\n",
    "                                kernel_size=5,\n",
    "                                stride=1,\n",
    "                                padding=0)\n",
    "        \n",
    "        self.block2 = ConvBlock(in_channels=6,\n",
    "                                out_channels=16,\n",
    "                                kernel_size=5,\n",
    "                                stride=1,\n",
    "                                padding=0)\n",
    "        \n",
    "        self.relu = nn.ReLU()\n",
    "        \n",
    "        self.linear1 = nn.Linear(in_features=16*5*5, out_features=120) # Number of channels times kernel_size^2\n",
    "        self.linear2 = nn.Linear(in_features=120, out_features=84)\n",
    "        self.linear3 = nn.Linear(in_features=84, out_features=self.num_classes)\n",
    "        \n",
    "    def forward(self, x):\n",
    "        x = self.block1(x)\n",
    "        x = self.block2(x)\n",
    "        \n",
    "        x = x.reshape(x.size(0), -1) # Flattening the tensor\n",
    "\n",
    "        x = self.linear1(x)\n",
    "        x = x.relu()\n",
    "        \n",
    "        x = self.linear2(x)\n",
    "        x = x.relu()\n",
    "        \n",
    "        x = self.linear3(x)\n",
    "        \n",
    "        return x"
   ]
  },
  {
   "cell_type": "code",
   "execution_count": 8,
   "id": "441e85b9-92b3-43fa-9d6f-415227ceded0",
   "metadata": {},
   "outputs": [],
   "source": [
    "lenet5 = LeNet5(num_classes=10)"
   ]
  },
  {
   "cell_type": "code",
   "execution_count": 9,
   "id": "8889e64c-276b-4c62-9ca3-175ccb874190",
   "metadata": {},
   "outputs": [
    {
     "data": {
      "text/plain": [
       "========================================================================================================================\n",
       "Layer (type (var_name))                  Input Shape          Output Shape         Param #              Trainable\n",
       "========================================================================================================================\n",
       "LeNet5 (LeNet5)                          [1, 1, 32, 32]       [1, 10]              --                   True\n",
       "├─ConvBlock (block1)                     [1, 1, 32, 32]       [1, 6, 14, 14]       --                   True\n",
       "│    └─Sequential (block)                [1, 1, 32, 32]       [1, 6, 14, 14]       --                   True\n",
       "│    │    └─Conv2d (0)                   [1, 1, 32, 32]       [1, 6, 28, 28]       156                  True\n",
       "│    │    └─ReLU (1)                     [1, 6, 28, 28]       [1, 6, 28, 28]       --                   --\n",
       "│    │    └─MaxPool2d (2)                [1, 6, 28, 28]       [1, 6, 14, 14]       --                   --\n",
       "├─ConvBlock (block2)                     [1, 6, 14, 14]       [1, 16, 5, 5]        --                   True\n",
       "│    └─Sequential (block)                [1, 6, 14, 14]       [1, 16, 5, 5]        --                   True\n",
       "│    │    └─Conv2d (0)                   [1, 6, 14, 14]       [1, 16, 10, 10]      2,416                True\n",
       "│    │    └─ReLU (1)                     [1, 16, 10, 10]      [1, 16, 10, 10]      --                   --\n",
       "│    │    └─MaxPool2d (2)                [1, 16, 10, 10]      [1, 16, 5, 5]        --                   --\n",
       "├─Linear (linear1)                       [1, 400]             [1, 120]             48,120               True\n",
       "├─Linear (linear2)                       [1, 120]             [1, 84]              10,164               True\n",
       "├─Linear (linear3)                       [1, 84]              [1, 10]              850                  True\n",
       "========================================================================================================================\n",
       "Total params: 61,706\n",
       "Trainable params: 61,706\n",
       "Non-trainable params: 0\n",
       "Total mult-adds (M): 0.42\n",
       "========================================================================================================================\n",
       "Input size (MB): 0.00\n",
       "Forward/backward pass size (MB): 0.05\n",
       "Params size (MB): 0.25\n",
       "Estimated Total Size (MB): 0.30\n",
       "========================================================================================================================"
      ]
     },
     "execution_count": 9,
     "metadata": {},
     "output_type": "execute_result"
    }
   ],
   "source": [
    "from torchinfo import summary\n",
    "\n",
    "summary(model=lenet5, input_size=(1, 1, 32, 32), col_width=20,\n",
    "                  col_names=['input_size', 'output_size', 'num_params', 'trainable'], row_settings=['var_names'], verbose=0)"
   ]
  },
  {
   "cell_type": "code",
   "execution_count": 10,
   "id": "1c7b4673-c060-44bb-add6-1bfe570e7499",
   "metadata": {},
   "outputs": [
    {
     "name": "stdout",
     "output_type": "stream",
     "text": [
      "cuda\n"
     ]
    }
   ],
   "source": [
    "device = 'cuda' if torch.cuda.is_available() else 'cpu'\n",
    "print(device)"
   ]
  },
  {
   "cell_type": "code",
   "execution_count": 11,
   "id": "938f615d-8a46-44ef-8308-18223d685fca",
   "metadata": {},
   "outputs": [],
   "source": [
    "lenet5 = lenet5.to(device)"
   ]
  },
  {
   "cell_type": "code",
   "execution_count": 12,
   "id": "1feaed88-3236-40c0-98b0-d707fe3b9572",
   "metadata": {},
   "outputs": [],
   "source": [
    "def training_setup(learning_rate, model):\n",
    "    loss = nn.CrossEntropyLoss()\n",
    "    optimizer = torch.optim.Adam(model.parameters(), lr=learning_rate)\n",
    "    \n",
    "    return loss, optimizer\n",
    "\n",
    "\n",
    "loss_module, optimizer = training_setup(learning_rate=1e-3,\n",
    "                                        model=lenet5)"
   ]
  },
  {
   "cell_type": "code",
   "execution_count": 13,
   "id": "069d8682-b1d9-43f5-bb80-602b782ab29b",
   "metadata": {},
   "outputs": [],
   "source": [
    "def train(model,\n",
    "          num_epochs,\n",
    "          device,\n",
    "          loss_module,\n",
    "          optimizer):\n",
    "    \n",
    "    total_steps = len(train_loader)\n",
    "    \n",
    "    history = []\n",
    "    \n",
    "    for epoch in tqdm(range(num_epochs)):\n",
    "        \n",
    "        train_loss = 0.0\n",
    "        \n",
    "        for i, (images, labels) in enumerate(train_loader):\n",
    "            \n",
    "            model.train()\n",
    "            \n",
    "            images = images.to(device)\n",
    "            labels = labels.to(device)\n",
    "            \n",
    "            preds = model(images)\n",
    "            loss = loss_module(preds, labels)\n",
    "            \n",
    "            train_loss += loss.item()\n",
    "            \n",
    "            #Backward and Optimize\n",
    "            optimizer.zero_grad()\n",
    "            loss.backward()\n",
    "            optimizer.step()\n",
    "            \n",
    "        train_loss /= len(train_loader)\n",
    "            \n",
    "        print(f\"Epoch [{epoch + 1}/{num_epochs}] - Train Loss: {train_loss}\")\n",
    "                \n",
    "        history.append(train_loss)\n",
    "        \n",
    "    sns.lineplot(history).set_title('Loss vs Epoch')\n",
    "    plt.xlabel('Epochs')\n",
    "    plt.ylabel('Loss')\n",
    "    plt.show()\n",
    "        \n",
    "    return history"
   ]
  },
  {
   "cell_type": "code",
   "execution_count": 14,
   "id": "2a873432-6f10-478b-8fed-a191d4e6a15e",
   "metadata": {},
   "outputs": [
    {
     "data": {
      "application/vnd.jupyter.widget-view+json": {
       "model_id": "aca2bf39284048a996088fbe48b08223",
       "version_major": 2,
       "version_minor": 0
      },
      "text/plain": [
       "  0%|          | 0/10 [00:00<?, ?it/s]"
      ]
     },
     "metadata": {},
     "output_type": "display_data"
    },
    {
     "name": "stdout",
     "output_type": "stream",
     "text": [
      "Epoch [1/10] - Train Loss: 0.22009660110179421\n",
      "Epoch [2/10] - Train Loss: 0.06596680443663436\n",
      "Epoch [3/10] - Train Loss: 0.047346989682161694\n",
      "Epoch [4/10] - Train Loss: 0.03715840441016937\n",
      "Epoch [5/10] - Train Loss: 0.03190700284286421\n",
      "Epoch [6/10] - Train Loss: 0.025416715551718278\n",
      "Epoch [7/10] - Train Loss: 0.02342141544609042\n",
      "Epoch [8/10] - Train Loss: 0.019552341001383193\n",
      "Epoch [9/10] - Train Loss: 0.01663938439123197\n",
      "Epoch [10/10] - Train Loss: 0.015528841060603727\n"
     ]
    },
    {
     "data": {
      "image/png": "[encoded data removed]",
      "text/plain": [
       "<Figure size 640x480 with 1 Axes>"
      ]
     },
     "metadata": {},
     "output_type": "display_data"
    }
   ],
   "source": [
    "history = train(model=lenet5,\n",
    "                  num_epochs=10,\n",
    "                  device=device,\n",
    "                  loss_module=loss_module,\n",
    "                  optimizer=optimizer)"
   ]
  },
  {
   "cell_type": "code",
   "execution_count": 15,
   "id": "d087c40d-0de2-4bda-866a-29cfcc0e983a",
   "metadata": {},
   "outputs": [
    {
     "name": "stdout",
     "output_type": "stream",
     "text": [
      "Test loss:  0.03686| Test acc:  0.98975\n"
     ]
    }
   ],
   "source": [
    "from torchmetrics import Accuracy\n",
    "\n",
    "test_loss, test_acc = 0, 0\n",
    "\n",
    "lenet5.to(device)\n",
    "\n",
    "accuracy = Accuracy(task='multiclass', num_classes=10)\n",
    "accuracy.to(device)\n",
    "\n",
    "lenet5.eval()\n",
    "\n",
    "with torch.inference_mode():\n",
    "    for X, y in test_loader:\n",
    "        X, y = X.to(device), y.to(device)\n",
    "        y_pred = lenet5(X)\n",
    "        \n",
    "        test_loss += loss_module(y_pred, y)\n",
    "        test_acc += accuracy(y_pred, y)\n",
    "        \n",
    "    test_loss /= len(test_loader)\n",
    "    test_acc /= len(test_loader)\n",
    "\n",
    "print(f\"Test loss: {test_loss: .5f}| Test acc: {test_acc: .5f}\")"
   ]
  },
  {
   "cell_type": "code",
   "execution_count": null,
   "id": "129b6fce-16f1-4a2c-a4c6-e4cb3d350cb1",
   "metadata": {},
   "outputs": [],
   "source": []
  }
 ],
 "metadata": {
  "kernelspec": {
   "display_name": "Python 3 (ipykernel)",
   "language": "python",
   "name": "python3"
  },
  "language_info": {
   "codemirror_mode": {
    "name": "ipython",
    "version": 3
   },
   "file_extension": ".py",
   "mimetype": "text/x-python",
   "name": "python",
   "nbconvert_exporter": "python",
   "pygments_lexer": "ipython3",
   "version": "3.10.8"
  }
 },
 "nbformat": 4,
 "nbformat_minor": 5
}
