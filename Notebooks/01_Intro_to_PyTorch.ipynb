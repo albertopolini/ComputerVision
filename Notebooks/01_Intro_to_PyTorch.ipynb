{
 "cells": [
  {
   "cell_type": "markdown",
   "id": "a1ffa81c-42f0-4650-b5fc-2b492310f753",
   "metadata": {},
   "source": [
    "# Intro to PyTorch"
   ]
  },
  {
   "cell_type": "markdown",
   "id": "ab15c9a6-b95f-4cce-83b3-c4dcbb32629a",
   "metadata": {},
   "source": [
    "[<img src=\"https://img.shields.io/badge/Status-Progress-blue.svg?logo=LOGO\">](<LINK>)"
   ]
  },
  {
   "cell_type": "markdown",
   "id": "9f58a080-5d0e-48e5-b4e6-d8eaeb16f524",
   "metadata": {},
   "source": [
    "In this notebook we are going to learn the basic concepts of Pytorch. Pytorch is the most used framework for Deep Learning Research. It's weel enstablished and has a huge developer community.\n",
    "\n",
    "Alternative frameworks to Pytorch are:\n",
    "\n",
    "- Tensorflow\n",
    "- JAX\n",
    "- Caffe\n",
    "\n",
    "Tensorflow in particular is the most common alternative to Pytorch and it's know for being a more production ready deep learning library\n",
    "\n",
    "*This notebook is inspired by the [UVA Deep Learning Course](https://uvadlc-notebooks.readthedocs.io/en/latest/index.html)*"
   ]
  },
  {
   "cell_type": "markdown",
   "id": "5729a0c7-7781-4501-b1e1-10d0ef41b53b",
   "metadata": {},
   "source": [
    "<a id='content'></a>\n",
    "\n",
    "**Contents**\n",
    "\n",
    "* Import section\n",
    "* PyTorch Basics\n",
    "   * Tensors\n",
    "       * Tensor Operations\n",
    "       * Indexing\n",
    "       \n",
    "* Dynamic Computational Graph and Backpropagation\n",
    "   "
   ]
  },
  {
   "cell_type": "markdown",
   "id": "96897b63-a5f4-4607-ac0a-6fdf42f4a449",
   "metadata": {},
   "source": [
    "---\n",
    "# Import section"
   ]
  },
  {
   "cell_type": "code",
   "execution_count": 3,
   "id": "6235c6ae-88ab-42a8-8ba5-f6a754bb28d1",
   "metadata": {},
   "outputs": [],
   "source": [
    "import numpy as np\n",
    "import torch\n",
    "\n",
    "import matplotlib.pyplot as plt"
   ]
  },
  {
   "cell_type": "markdown",
   "id": "cb7982d8-531d-4e2d-922f-11cded2ac81f",
   "metadata": {},
   "source": [
    "---\n",
    "# PyTorch Basics\n",
    "\n",
    "In this section we will see the basic concepts of PyTorch"
   ]
  },
  {
   "cell_type": "markdown",
   "id": "b9167e36-bc43-4b78-9395-1125a376e0c3",
   "metadata": {},
   "source": [
    "We already imported PyTorch in the previous section, lets check the version of the library:"
   ]
  },
  {
   "cell_type": "code",
   "execution_count": 5,
   "id": "2e3b924b-ff6a-4a1a-83d7-a91cf77e6734",
   "metadata": {},
   "outputs": [
    {
     "data": {
      "text/plain": [
       "'2.0.1+cu117'"
      ]
     },
     "execution_count": 5,
     "metadata": {},
     "output_type": "execute_result"
    }
   ],
   "source": [
    "torch.__version__"
   ]
  },
  {
   "cell_type": "markdown",
   "id": "8abc0abe-6a83-402c-9fc8-bbcfb9946d83",
   "metadata": {},
   "source": [
    "Like in numpy PyTorch offers the possibility to set a random seed to ensure that the results of different runs of the same code will give the exact same random numbers"
   ]
  },
  {
   "cell_type": "code",
   "execution_count": 6,
   "id": "69c08299-5049-427a-86e9-5d4c839c81c7",
   "metadata": {},
   "outputs": [
    {
     "data": {
      "text/plain": [
       "<torch._C.Generator at 0x7f8c84e192d0>"
      ]
     },
     "execution_count": 6,
     "metadata": {},
     "output_type": "execute_result"
    }
   ],
   "source": [
    "torch.manual_seed(24061) # Setting the seed for reproducibility"
   ]
  },
  {
   "cell_type": "markdown",
   "id": "bd38f4a7-ec94-4be7-8951-3d62ac8cd1f2",
   "metadata": {},
   "source": [
    "## Tensors"
   ]
  },
  {
   "cell_type": "markdown",
   "id": "19a2a690-298e-4f52-97f0-d0297e034943",
   "metadata": {},
   "source": [
    "Tensors are a generalization of the concept of vectors:\n",
    "\n",
    "* `Vector: 1-D Tensor`\n",
    "* `Matrix 2-D Tensor`\n",
    "\n",
    "PyTorch tensors are the equivalent to Numpy arrays, with the difference that the former have a support for GPU acceleration.\n",
    "\n",
    "Most of the common functions from numpy can be used on PyTorch tensors"
   ]
  },
  {
   "cell_type": "markdown",
   "id": "499358df-7167-4db2-bb82-70ffd7a87d7c",
   "metadata": {},
   "source": [
    "Let's start by defining a tensor"
   ]
  },
  {
   "cell_type": "code",
   "execution_count": null,
   "id": "5c81edda-d7c6-4ab6-88d6-cdbb40078975",
   "metadata": {},
   "outputs": [
    {
     "name": "stdout",
     "output_type": "stream",
     "text": [
      "Data type: <class 'torch.Tensor'> \n",
      "Tensor: tensor([[[ 3.1960e-34,  0.0000e+00,  0.0000e+00,  0.0000e+00],\n",
      "         [ 3.5293e-34,  0.0000e+00,  3.1495e-35,  0.0000e+00],\n",
      "         [-1.3519e-38,  4.5755e-41,  0.0000e+00,  0.0000e+00]],\n",
      "\n",
      "        [[ 0.0000e+00,  0.0000e+00,  0.0000e+00,  0.0000e+00],\n",
      "         [ 0.0000e+00,  0.0000e+00,  0.0000e+00,  0.0000e+00],\n",
      "         [ 0.0000e+00,  0.0000e+00,  1.4013e-45,  0.0000e+00]]])\n"
     ]
    }
   ],
   "source": [
    "x = torch.Tensor(2,3,4) # 2, 3, 4 Represents the shape of the tensor\n",
    "\n",
    "print(f\"Data type: {type(x)} \\nTensor: {x}\")\n"
   ]
  },
  {
   "cell_type": "markdown",
   "id": "fc64522e-5fdf-4da6-927f-8b4d7057fafc",
   "metadata": {},
   "source": [
    "`torch.Tensor` return a random tensor with the desired shape "
   ]
  },
  {
   "cell_type": "markdown",
   "id": "9a6eb757-1f9f-4235-985e-45e2c30c8251",
   "metadata": {},
   "source": [
    "To directly assign numbers it's possible to use one of the following methods:\n",
    "- `torch.zeros`: Creates a tensor filled with zeros\n",
    "- `torch.ones`: Creates a tensor filled with ones\n",
    "- `torch.rand`: Creates a tensor with random values uniformly samples between 0 and 1\n",
    "- `torch.randn`: Creates a tensor with random values sampled from a normal distribution\n",
    "- `torch.arange`: Creates a tensor with the values from a lower limit to an upper limit\n",
    "- `torch.Tensor` + Input list: Creates a tensor with the elements in the list\n",
    "- `torch.from_numpy`: Converts a numpy array into a PyTorch tensor"
   ]
  },
  {
   "cell_type": "markdown",
   "id": "ffb64e28-56f0-46d6-b78b-525ce9f53c3c",
   "metadata": {},
   "source": [
    "As an example it's possible to define a Tensor from a nested list"
   ]
  },
  {
   "cell_type": "code",
   "execution_count": 11,
   "id": "13fc0d9a-41c2-431d-901b-b24e21244535",
   "metadata": {},
   "outputs": [
    {
     "name": "stdout",
     "output_type": "stream",
     "text": [
      "tensor([[1, 2],\n",
      "        [3, 4]])\n"
     ]
    }
   ],
   "source": [
    "x = torch.tensor([[1,2],[3,4]])\n",
    "print(x)"
   ]
  },
  {
   "cell_type": "markdown",
   "id": "c41e7228-7f3b-4311-ade5-9cb02a74d576",
   "metadata": {},
   "source": [
    "To access the shape of a tensor you can use two methods:\n",
    "- `.shape`\n",
    "- `.size`"
   ]
  },
  {
   "cell_type": "code",
   "execution_count": 14,
   "id": "7194b9c1-9e21-49a2-9635-4ebd51380b8d",
   "metadata": {},
   "outputs": [
    {
     "name": "stdout",
     "output_type": "stream",
     "text": [
      "Tensor shape: torch.Size([2, 2])\n",
      "Tensor size: torch.Size([2, 2])\n"
     ]
    }
   ],
   "source": [
    "shape = x.shape\n",
    "size = x.size()\n",
    "print(f\"Tensor shape: {shape}\")\n",
    "print(f\"Tensor size: {size}\")"
   ]
  },
  {
   "cell_type": "markdown",
   "id": "1c41ccb3-f538-4ea5-bd1a-ea5eb10af20f",
   "metadata": {},
   "source": [
    "### Tensor Operations"
   ]
  },
  {
   "cell_type": "markdown",
   "id": "32218551-63d4-4f8d-965a-975bf0433249",
   "metadata": {},
   "source": [
    "In PyTorch we have most of the operations implemented in the numpy library."
   ]
  },
  {
   "cell_type": "markdown",
   "id": "3103df63-6a75-4a90-8c07-9d12b18f8dcd",
   "metadata": {},
   "source": [
    "`Addition`"
   ]
  },
  {
   "cell_type": "code",
   "execution_count": 19,
   "id": "af84cefd-5213-47ee-a185-cf51c565dcbc",
   "metadata": {},
   "outputs": [
    {
     "name": "stdout",
     "output_type": "stream",
     "text": [
      "x1 tensor([[0.9586, 0.3951, 0.5340],\n",
      "        [0.1267, 0.3693, 0.3151]])\n",
      "x2 tensor([[0.1652, 0.4793, 0.0563],\n",
      "        [0.2618, 0.7070, 0.6814]])\n",
      "y tensor([[1.1239, 0.8744, 0.5903],\n",
      "        [0.3884, 1.0764, 0.9964]])\n",
      "\n",
      "#### Inplace Operation\n",
      "\n",
      "x1 before tensor([[0.5925, 0.0574, 0.4906],\n",
      "        [0.4131, 0.8776, 0.1413]])\n",
      "x2 before tensor([[0.2616, 0.8005, 0.7499],\n",
      "        [0.4120, 0.9679, 0.7110]])\n",
      "x1 after tensor([[0.5925, 0.0574, 0.4906],\n",
      "        [0.4131, 0.8776, 0.1413]])\n",
      "x2 after tensor([[0.8540, 0.8579, 1.2405],\n",
      "        [0.8251, 1.8455, 0.8523]])\n"
     ]
    }
   ],
   "source": [
    "x1 = torch.rand(2,3)\n",
    "x2 = torch.rand(2,3)\n",
    "\n",
    "y = x1 + x2\n",
    "\n",
    "# x1 + x2 creates a new tensor containing the sum of the two inputs\n",
    "\n",
    "print(\"x1\", x1)\n",
    "print(\"x2\", x2)\n",
    "print(\"y\", y)\n",
    "\n",
    "print(\"\\n#### Inplace Operation\\n\")\n",
    "# We can use in-place operations\n",
    "x1 = torch.rand(2,3)\n",
    "x2 = torch.rand(2,3) \n",
    "\n",
    "print(\"x1 before\", x1)\n",
    "print(\"x2 before\", x2)\n",
    "\n",
    "x2.add_(x1) # the final _ in add_ means that we are using a in-place operation\n",
    "\n",
    "print(\"x1 after\", x1)\n",
    "print(\"x2 after\", x2)\n"
   ]
  },
  {
   "cell_type": "markdown",
   "id": "64fd8991-31b1-430a-a175-f8fd23c64dc2",
   "metadata": {},
   "source": [
    "The `View` operation changes the shape of a tensor"
   ]
  },
  {
   "cell_type": "code",
   "execution_count": 8,
   "id": "1dfa5709-00bc-4396-9432-8eb86ef6704c",
   "metadata": {},
   "outputs": [
    {
     "name": "stdout",
     "output_type": "stream",
     "text": [
      "tensor: tensor([0, 1, 2, 3, 4, 5]), shape: torch.Size([6])\n",
      "tensor: tensor([[0, 1, 2],\n",
      "        [3, 4, 5]]), shape: torch.Size([2, 3])\n"
     ]
    }
   ],
   "source": [
    "x = torch.arange(6)\n",
    "print(f\"tensor: {x}, shape: {x.shape}\")\n",
    "\n",
    "x = x.view(2,3) # Changing the shape of x into a 2x3 tensor\n",
    "print(f\"tensor: {x}, shape: {x.shape}\")\n"
   ]
  },
  {
   "cell_type": "markdown",
   "id": "aa725a66-cbb1-4912-a844-7d1d2b1bb295",
   "metadata": {},
   "source": [
    "The `Permute` operation swaps the dimensions of the tensor"
   ]
  },
  {
   "cell_type": "code",
   "execution_count": 10,
   "id": "40a258e4-f691-4cb3-af44-cf56342efce2",
   "metadata": {},
   "outputs": [
    {
     "name": "stdout",
     "output_type": "stream",
     "text": [
      "tensor: tensor([0, 1, 2, 3, 4, 5]), shape: torch.Size([6])\n",
      "tensor: tensor([[0, 1, 2],\n",
      "        [3, 4, 5]]), shape: torch.Size([2, 3])\n",
      "tensor: tensor([[0, 3],\n",
      "        [1, 4],\n",
      "        [2, 5]]), shape: torch.Size([3, 2])\n"
     ]
    }
   ],
   "source": [
    "x = torch.arange(6)\n",
    "print(f\"tensor: {x}, shape: {x.shape}\")\n",
    "\n",
    "x = x.view(2,3) # Changing the shape of x into a 2x3 tensor\n",
    "print(f\"tensor: {x}, shape: {x.shape}\")\n",
    "\n",
    "x = x.permute(1,0) # CSwapping the dimensions of the tensor\n",
    "print(f\"tensor: {x}, shape: {x.shape}\")"
   ]
  },
  {
   "cell_type": "markdown",
   "id": "301d24c3-28fa-4fb7-ab94-e1cd715300a4",
   "metadata": {},
   "source": [
    "-"
   ]
  },
  {
   "cell_type": "markdown",
   "id": "5f9dc4b8-8834-4b62-8bf9-8852b98ea88e",
   "metadata": {},
   "source": [
    "Matrix multiplication are the essence of neural networks, where we have to multiply tensors with input data $x$ with other tensors representing the learned weights of the model $W$.\n",
    "\n",
    "There are multiple ways to perform matrix multiplication in PyTorch:\n",
    "* `torch.matmul`: Performs matrix multiplication over two tensors. If both inputs are matrices it performs the standard matrix product. For higher dimensional inputs the function support broadcasting\n",
    "* `torch.mm`: Performs the matrix product over two matrices but doesn't support broadcasting\n",
    "* `torch.bmm`: Performs the matrix multiplication with the support of a batch dimension. If the first tensor $T$ is of shape ($b\\times n\\times m$), and the second tensor $R$ ($b\\times m\\times p$), the output $O$ is of shape ($b\\times n\\times p$), and has been calculated by performing $b$ matrix multiplications of the submatrices of $T$ and $R$."
   ]
  },
  {
   "cell_type": "code",
   "execution_count": 14,
   "id": "bf074397-c106-462b-bb27-6604429e9cba",
   "metadata": {},
   "outputs": [
    {
     "name": "stdout",
     "output_type": "stream",
     "text": [
      "x:  tensor([[0, 1, 2],\n",
      "        [3, 4, 5]])\n",
      "W:  tensor([[0, 1, 2],\n",
      "        [3, 4, 5],\n",
      "        [6, 7, 8]])\n",
      "h:  tensor([[15, 18, 21],\n",
      "        [42, 54, 66]])\n"
     ]
    }
   ],
   "source": [
    "x = torch.arange(6) # Defining the input vector\n",
    "x = x.view(2,3) # Changing the shape of the x tensor\n",
    "print(\"x: \", x)\n",
    "\n",
    "W = torch.arange(9)\\\n",
    "         .view(3,3) # Defining the weight vector and changing its shape into a 3x3 tensor\n",
    "\n",
    "print(\"W: \", W)\n",
    "\n",
    "h = torch.matmul(x,W) # Performing the multiplication between the input vector and the weight tensor\n",
    "print(\"h: \", h)\n",
    "\n",
    "\n",
    "\n"
   ]
  },
  {
   "cell_type": "markdown",
   "id": "d5fa8f0b-734a-4f86-bba3-eed699589853",
   "metadata": {},
   "source": [
    "### Indexing"
   ]
  },
  {
   "cell_type": "markdown",
   "id": "4848949c-9714-4cee-a2a9-efbc17d81051",
   "metadata": {},
   "source": [
    "Like in numpy we can select parts of the tensor"
   ]
  },
  {
   "cell_type": "code",
   "execution_count": 17,
   "id": "3216f7cb-a6bf-4d51-bce6-cbe8748573b1",
   "metadata": {},
   "outputs": [
    {
     "name": "stdout",
     "output_type": "stream",
     "text": [
      "tensor([1, 5, 9])\n",
      "tensor([0, 1, 2, 3])\n",
      "tensor([3, 7])\n",
      "tensor([[ 4,  5,  6,  7],\n",
      "        [ 8,  9, 10, 11]])\n"
     ]
    }
   ],
   "source": [
    "x = torch.arange(12).view(3,4)\n",
    "\n",
    "print(x[:, 1]) # Second column\n",
    "print(x[0]) # First row\n",
    "\n",
    "print(x[:2, -1]) # First 2 rows and last column\n",
    "print(x[1:3, :]) # Middle two rows"
   ]
  },
  {
   "cell_type": "markdown",
   "id": "f457f17c-de3a-44bd-ae90-a8920fea4870",
   "metadata": {},
   "source": [
    "# Dynamic Computational Graph and Backpropagation"
   ]
  },
  {
   "cell_type": "markdown",
   "id": "17e28312-28b0-402a-a724-f44a15f414a4",
   "metadata": {},
   "source": [
    "One of the main reasons for using PyTorch in Deep Learning projects is that we can automatically get **gradients/derivatives** of functions that we define. We will mainly use PyTorch for implementing neural networks, and they are just fancy functions. If we use weight matrices in our function that we want to learn, then those are called the **parameters** or simply the **weights**.\n",
    "\n",
    "If our neural network would output a single scalar value, we would talk about taking the **derivative**, but you will see that quite often we will have **multiple** output variables; in that case we talk about **gradients**.\n",
    "\n",
    "Given an input $\\mathbf{x}$, we define our function by **manipulating** that input, usually by matrix-multiplications with weight matrices and additions with so-called bias vectors. As we manipulate our input, we are automatically creating a **computational graph**. This graph shows how to arrive at our output from our input. \n",
    "PyTorch is a **define-by-run** framework; this means that we can just do our manipulations, and PyTorch will keep track of that graph for us. Thus, we create a dynamic computation graph along the way.\n",
    "\n",
    "So, to recap: the only thing we have to do is to compute the **output**, and then we can ask PyTorch to automatically get the **gradients**. \n",
    "\n",
    "> **Note:  Why do we want gradients?** Consider that we have defined a function, a neural net, that is supposed to compute a certain output $y$ for an input vector $\\mathbf{x}$. We then define an **error measure** that tells us how wrong our network is; how bad it is in predicting output $y$ from input $\\mathbf{x}$. Based on this error measure, we can use the gradients to **update** the weights $\\mathbf{W}$ that were responsible for the output, so that the next time we present input $\\mathbf{x}$ to our network, the output will be closer to what we want.\n",
    "\n",
    "*Description taken from [UVA Deep Learning Course](https://uvadlc-notebooks.readthedocs.io/en/latest/index.html)*"
   ]
  },
  {
   "cell_type": "markdown",
   "id": "e8c43238-2a6a-491b-993f-bafed3704860",
   "metadata": {},
   "source": [
    "When we define a tensor in PyTorch by default it does not requires gradient"
   ]
  },
  {
   "cell_type": "code",
   "execution_count": 20,
   "id": "8025cc4b-6fdc-4b31-85b6-e93f5ee1c082",
   "metadata": {},
   "outputs": [
    {
     "name": "stdout",
     "output_type": "stream",
     "text": [
      "False\n"
     ]
    }
   ],
   "source": [
    "x = torch.ones((3,))\n",
    "print(x.requires_grad)"
   ]
  },
  {
   "cell_type": "markdown",
   "id": "ac5b2f1c-d1f2-4f11-9ad4-f802bfff8d42",
   "metadata": {},
   "source": [
    "There are two options to change the requires_grad property to true:"
   ]
  },
  {
   "cell_type": "code",
   "execution_count": 24,
   "id": "9f65f855-d398-4f88-8b76-9815f21b2158",
   "metadata": {},
   "outputs": [
    {
     "name": "stdout",
     "output_type": "stream",
     "text": [
      "True\n",
      "True\n"
     ]
    }
   ],
   "source": [
    "x.requires_grad_(True) # Setting the property to true after the initialization\n",
    "print(x.requires_grad)\n",
    "\n",
    "x = torch.ones((3,), requires_grad = True)\n",
    "print(x.requires_grad)"
   ]
  },
  {
   "cell_type": "markdown",
   "id": "3026d4d4-e97e-40ba-9a10-d9b8bef4c782",
   "metadata": {},
   "source": [
    "We can compute the gradient of a function by hand and than compare the result with PyTorch. Let's consider the function:\n",
    "\n",
    "$$y = \\frac{1}{|x|}\\sum_i \\left[(x_i + 2)^2 + 3\\right]$$\n",
    "\n",
    "$\\mathbf{x}$ are the parameters. We want to optimize them in order int maximize/minimize the output $\\mathbf{y}$.\n",
    "We need to optain the gradients $\\partial y / \\partial \\mathbf{x}$. For our example, we'll use $\\mathbf{x}=[0,1,2]$ as our input."
   ]
  },
  {
   "cell_type": "code",
   "execution_count": 31,
   "id": "a2ac8ba9-56e4-41ee-a80b-d5d27d4e7cac",
   "metadata": {},
   "outputs": [
    {
     "name": "stdout",
     "output_type": "stream",
     "text": [
      "X tensor([0., 1., 2.], requires_grad=True)\n"
     ]
    }
   ],
   "source": [
    "x = torch.arange(3, dtype=torch.float32, requires_grad=True) # Only float tensors can have gradients\n",
    "print(\"X\", x)"
   ]
  },
  {
   "cell_type": "code",
   "execution_count": 32,
   "id": "f041fd44-2ec1-4cb4-9aeb-af7b983738c3",
   "metadata": {},
   "outputs": [
    {
     "name": "stdout",
     "output_type": "stream",
     "text": [
      "Y tensor(12.6667, grad_fn=<MeanBackward0>)\n"
     ]
    }
   ],
   "source": [
    "a = x + 2\n",
    "b = a ** 2\n",
    "c = b + 3\n",
    "y = c.mean()\n",
    "print(\"Y\", y)"
   ]
  },
  {
   "attachments": {
    "54c75d62-b38a-4171-a39f-c6e2990566a4.png": {
     "image/png": "[encoded data removed]"
    }
   },
   "cell_type": "markdown",
   "id": "29cbe01b-b355-496f-b03d-c9fe1feb1e55",
   "metadata": {},
   "source": [
    "![image.png](attachment:54c75d62-b38a-4171-a39f-c6e2990566a4.png)\n",
    "\n",
    "The visualization is an abstraction of the dependencies between inputs and outputs of the operations we have applied.\n",
    "Each node of the computation graph has automatically defined a function for calculating the gradients with respect to its inputs, `grad_fn`. You can see this when we printed the output tensor $y$. This is why the computation graph is usually visualized in the reverse direction (arrows point from the result to the inputs). We can perform backpropagation on the computation graph by calling the function `backward()` on the last output, which effectively calculates the gradients for each tensor that has the property `requires_grad=True`:"
   ]
  },
  {
   "cell_type": "code",
   "execution_count": 33,
   "id": "9744872b-f34a-415f-b653-e8241ab14e00",
   "metadata": {},
   "outputs": [
    {
     "name": "stdout",
     "output_type": "stream",
     "text": [
      "tensor([1.3333, 2.0000, 2.6667])\n"
     ]
    }
   ],
   "source": [
    "y.backward()\n",
    "print(x.grad)"
   ]
  },
  {
   "cell_type": "markdown",
   "id": "54a13833-56a8-4353-82f5-c4ec10565d84",
   "metadata": {},
   "source": [
    "We can also verify these gradients by hand. We will calculate the gradients using the chain rule, in the same way as PyTorch did it:\n",
    "\n",
    "$$\\frac{\\partial y}{\\partial x_i} = \\frac{\\partial y}{\\partial c_i}\\frac{\\partial c_i}{\\partial b_i}\\frac{\\partial b_i}{\\partial a_i}\\frac{\\partial a_i}{\\partial x_i}$$\n",
    "\n",
    "Note that we have simplified this equation to index notation, and by using the fact that all operation besides the mean do not combine the elements in the tensor. The partial derivatives are:\n",
    "\n",
    "$$\n",
    "\\frac{\\partial a_i}{\\partial x_i} = 1,\\hspace{1cm}\n",
    "\\frac{\\partial b_i}{\\partial a_i} = 2\\cdot a_i\\hspace{1cm}\n",
    "\\frac{\\partial c_i}{\\partial b_i} = 1\\hspace{1cm}\n",
    "\\frac{\\partial y}{\\partial c_i} = \\frac{1}{3}\n",
    "$$\n",
    "\n",
    "Hence, with the input being $\\mathbf{x}=[0,1,2]$, our gradients are $\\partial y/\\partial \\mathbf{x}=[4/3,2,8/3]$. The previous code cell should have printed the same result."
   ]
  },
  {
   "cell_type": "code",
   "execution_count": null,
   "id": "47086f53-582c-4299-bca2-c883d8aa3b4c",
   "metadata": {},
   "outputs": [],
   "source": []
  }
 ],
 "metadata": {
  "kernelspec": {
   "display_name": "Python 3 (ipykernel)",
   "language": "python",
   "name": "python3"
  },
  "language_info": {
   "codemirror_mode": {
    "name": "ipython",
    "version": 3
   },
   "file_extension": ".py",
   "mimetype": "text/x-python",
   "name": "python",
   "nbconvert_exporter": "python",
   "pygments_lexer": "ipython3",
   "version": "3.10.8"
  }
 },
 "nbformat": 4,
 "nbformat_minor": 5
}
